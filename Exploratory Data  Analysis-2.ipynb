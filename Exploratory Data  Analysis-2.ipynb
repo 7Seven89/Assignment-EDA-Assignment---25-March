{
 "cells": [
  {
   "cell_type": "markdown",
   "id": "d48c64ab-a39b-4e37-9802-ec6830cef9fe",
   "metadata": {},
   "source": [
    "### Flight Price Dataset\n",
    "\n",
    "#### Q1. Load the flight price dataset and examine its dimensions. How many rows and columns does the dataset have?\n",
    "\n",
    "The first step after loading the dataset is to check its shape using `dataset.shape`. This will give the number of rows (observations) and columns (features). The result could look like:\n",
    "- Example: `5000 rows and 10 columns`."
   ]
  },
  {
   "cell_type": "markdown",
   "id": "9e53e8e3-9314-48c5-9df7-17d03d8e710e",
   "metadata": {},
   "source": []
  },
  {
   "cell_type": "markdown",
   "id": "9dbd175d-804d-430e-8978-eff3f484f6e4",
   "metadata": {},
   "source": [
    "**Q3. What is the range of prices in the dataset? What is the minimum and maximum price?**\n",
    "\n",
    "The range of prices can be calculated by identifying the minimum and maximum prices in the dataset. For example:\n",
    "- **Minimum Price**: X (cheapest flight)\n",
    "- **Maximum Price**: Y (most expensive flight)"
   ]
  },
  {
   "cell_type": "markdown",
   "id": "fa691d3c-292c-40df-8889-c50ac51f5591",
   "metadata": {},
   "source": []
  },
  {
   "cell_type": "markdown",
   "id": "08a934f2-a9c2-44ff-8cee-223a98aa001d",
   "metadata": {},
   "source": [
    "**Q4. How does the price of flights vary by airline? Create a boxplot to compare the prices of different airlines.**\n",
    "\n",
    "To compare the price distribution across airlines, a boxplot can be created. This will help in visualizing the central tendency, spread, and potential outliers in the prices for each airline. "
   ]
  },
  {
   "cell_type": "markdown",
   "id": "daf0643f-be8e-4658-8249-469d3180e675",
   "metadata": {},
   "source": []
  },
  {
   "cell_type": "markdown",
   "id": "97dbf724-ac7d-4859-95ff-0acfdf0376bc",
   "metadata": {},
   "source": [
    "**Q5. Are there any outliers in the dataset? Identify any potential outliers using a boxplot and describe how they may impact your analysis.**\n",
    "\n",
    "Outliers can be identified in the boxplot from Q4. Flights with extremely high or low prices compared to the median price for each airline may represent promotional offers or peak season spikes. These outliers could skew the mean and affect the overall analysis, particularly when making recommendations."
   ]
  },
  {
   "cell_type": "markdown",
   "id": "7bf13605-d0b1-4880-b904-2f957b2bd118",
   "metadata": {},
   "source": []
  },
  {
   "cell_type": "markdown",
   "id": "52eff2bb-7f56-42e8-b67d-de71754f83c2",
   "metadata": {},
   "source": [
    "**Q6. You are working for a travel agency, and your boss has asked you to analyze the Flight Price dataset to identify the peak travel season. What features would you analyze to identify the peak season, and how would you present your findings to your boss?**\n",
    "\n",
    "To identify the peak travel season:\n",
    "- **Features to analyze**: Date of flight, price, destination, booking date.\n",
    "- **Approach**: Examine how prices fluctuate over time. Higher prices during certain months (e.g., holidays or summer) could indicate peak travel season.\n",
    "- **Presentation**: Use line charts to show price trends over the months and highlight periods of peak demand."
   ]
  },
  {
   "cell_type": "markdown",
   "id": "1c31a3d3-16ba-4fa7-b430-b78a4a1acd3b",
   "metadata": {},
   "source": []
  },
  {
   "cell_type": "markdown",
   "id": "8d391c48-6fcc-4f0f-8d35-68bd8557c34a",
   "metadata": {},
   "source": [
    "**Q7. You are a data analyst for a flight booking website, and you have been asked to analyze the Flight Price dataset to identify any trends in flight prices. What features would you analyze to identify these trends, and what visualizations would you use to present your findings to your team?**\n",
    "\n",
    "To analyze price trends:\n",
    "- **Features to analyze**: Date, airline, destination, class (economy/business), booking lead time.\n",
    "- **Visualizations**: Line charts for time-based trends, bar charts for average prices per airline or destination, and scatter plots for price vs. booking lead time to analyze how prices fluctuate closer to the travel date."
   ]
  },
  {
   "cell_type": "markdown",
   "id": "ea4cf29c-6722-451c-9299-b65f5bb87ea8",
   "metadata": {},
   "source": []
  },
  {
   "cell_type": "markdown",
   "id": "7b41c855-a860-4c2e-9982-86314eefc44a",
   "metadata": {},
   "source": [
    "**Q8. You are a data scientist working for an airline company, and you have been asked to analyze the Flight Price dataset to identify the factors that affect flight prices. What features would you analyze to identify these factors, and how would you present your findings to the management team?**\n",
    "\n",
    "To identify factors affecting flight prices:\n",
    "- **Features to analyze**: Airline, distance, flight duration, seat class, demand (season), booking time, fuel prices.\n",
    "- **Approach**: Use regression analysis or feature importance from a machine learning model to rank the most influential factors.\n",
    "- **Presentation**: Present key factors using a bar chart for feature importance, along with supporting statistics or scatter plots showing relationships.\n",
    "\n",
    "---"
   ]
  },
  {
   "cell_type": "markdown",
   "id": "4eb5b78f-bcff-44bc-ab58-1ed65248e1af",
   "metadata": {},
   "source": [
    "### Google Playstore Dataset:"
   ]
  },
  {
   "cell_type": "markdown",
   "id": "7714ebc3-43f9-4f52-a15e-bb97066fbf1c",
   "metadata": {},
   "source": []
  },
  {
   "cell_type": "markdown",
   "id": "86a01cb5-c920-46e3-9af3-162746a2bbab",
   "metadata": {},
   "source": [
    "**Q9. Load the Google Playstore dataset and examine its dimensions. How many rows and columns does the dataset have?**\n",
    "\n",
    "Upon loading the dataset, you can check the shape using `.shape` to determine the number of rows (apps) and columns (features) it contains."
   ]
  },
  {
   "cell_type": "markdown",
   "id": "4ecfaa88-c103-4f55-8a4a-b7d8689f2fc0",
   "metadata": {},
   "source": []
  },
  {
   "cell_type": "markdown",
   "id": "dbcd2c22-2d8b-41c5-999b-483468607681",
   "metadata": {},
   "source": [
    "**Q10. How does the rating of apps vary by category? Create a boxplot to compare the ratings of different app categories.**\n",
    "\n",
    "A boxplot comparing the app ratings across categories will reveal the distribution and spread of ratings for each category, highlighting which categories have the highest-rated apps and which have more variability."
   ]
  },
  {
   "cell_type": "markdown",
   "id": "cbf2d8f7-80bb-4fc0-b8b7-14a113f72f54",
   "metadata": {},
   "source": []
  },
  {
   "cell_type": "markdown",
   "id": "3231edf7-068f-450b-871f-d0204d2b39f2",
   "metadata": {},
   "source": [
    "**Q11. Are there any missing values in the dataset? Identify any missing values and describe how they may impact your analysis.**\n",
    "\n",
    "Missing values can be detected using `.isnull().sum()`. Missing ratings or reviews could affect the ability to calculate averages or trends, leading to bias in analysis. Imputation or exclusion of missing values may be necessary."
   ]
  },
  {
   "cell_type": "markdown",
   "id": "a1d68b3a-e19f-4627-9c19-86c8d12ee464",
   "metadata": {},
   "source": []
  },
  {
   "cell_type": "markdown",
   "id": "90c31a11-d94e-4195-8b06-7f10b3479c6d",
   "metadata": {},
   "source": [
    "**Q12. What is the relationship between the size of an app and its rating? Create a scatter plot to visualize the relationship.**\n",
    "\n",
    "A scatter plot between app size (MB) and rating will help visualize whether larger apps tend to have higher or lower ratings and if any correlation exists."
   ]
  },
  {
   "cell_type": "markdown",
   "id": "d3d2eb59-6109-4379-ba51-da196e293986",
   "metadata": {},
   "source": []
  },
  {
   "cell_type": "markdown",
   "id": "fe0d9bbe-a86c-4931-a002-e4a3c715c4e6",
   "metadata": {},
   "source": [
    "**Q13. How does the type of app affect its price? Create a bar chart to compare average prices by app type.**\n",
    "\n",
    "By categorizing apps into free and paid, you can calculate the average price for each type and create a bar chart to compare them. Paid apps generally have a wider range of prices compared to free apps."
   ]
  },
  {
   "cell_type": "markdown",
   "id": "ae1b27da-1b0d-4d4f-b01f-15efaaa4fc6f",
   "metadata": {},
   "source": []
  },
  {
   "cell_type": "markdown",
   "id": "be4f6d7a-0d80-45ed-bdca-41007e368ed9",
   "metadata": {},
   "source": [
    "**Q14. What are the top 10 most popular apps in the dataset? Create a frequency table to identify the apps with the highest number of installs.**\n",
    "\n",
    "The top 10 most popular apps can be identified by sorting the apps based on the number of installs. A frequency table can then list the top 10 apps with their install counts."
   ]
  },
  {
   "cell_type": "markdown",
   "id": "fe8a06ff-0070-4ce5-9803-6f9aa330006e",
   "metadata": {},
   "source": []
  },
  {
   "cell_type": "markdown",
   "id": "fbb75850-8117-4b0e-a5ce-ec4c2dc4453d",
   "metadata": {},
   "source": [
    "**Q15. A company wants to launch a new app on the Google Playstore and has asked you to analyze the Google Playstore dataset to identify the most popular app categories. How would you approach this task, and what features would you analyze to make recommendations to the company?**\n",
    "\n",
    "To recommend popular categories:\n",
    "- **Features to analyze**: Category, number of installs, rating, reviews.\n",
    "- **Approach**: Use a bar chart to compare the average number of installs across categories and analyze user ratings to highlight categories with both high demand and positive feedback."
   ]
  },
  {
   "cell_type": "markdown",
   "id": "1734526f-19a4-4405-b309-af6761e9446b",
   "metadata": {},
   "source": []
  },
  {
   "cell_type": "markdown",
   "id": "283b9f21-7505-43f5-a2bf-7924fa02c5b7",
   "metadata": {},
   "source": [
    "**Q16. A mobile app development company wants to analyze the Google Playstore dataset to identify the most successful app developers. What features would you analyze to make recommendations to the company, and what data visualizations would you use to present your findings?**\n",
    "\n",
    "To identify successful developers:\n",
    "- **Features to analyze**: Developer name, number of installs, ratings, number of apps developed.\n",
    "- **Visualizations**: A bar chart showing the number of installs per developer and scatter plots for the relationship between the number of apps and average rating per developer."
   ]
  },
  {
   "cell_type": "markdown",
   "id": "47a49ba5-ee55-42fe-9c4a-a512c037cfef",
   "metadata": {},
   "source": []
  },
  {
   "cell_type": "markdown",
   "id": "a9e0afef-cc23-4afe-825d-bd1e39670b21",
   "metadata": {},
   "source": [
    "**Q17. A marketing research firm wants to analyze the Google Playstore dataset to identify the best time to launch a new app. What features would you analyze to make recommendations to the company, and what data visualizations would you use to present your findings?**\n",
    "\n",
    "To determine the best time to launch:\n",
    "- **Features to analyze**: Release date, number of installs over time, category.\n",
    "- **Approach**: Analyze trends in installs based on the time of year or month. Use line charts to visualize app install patterns and seasonal trends, helping identify optimal launch periods."
   ]
  },
  {
   "cell_type": "markdown",
   "id": "8a6e69cd-625d-4525-993b-02bcf273595f",
   "metadata": {},
   "source": []
  }
 ],
 "metadata": {
  "kernelspec": {
   "display_name": "Python 3 (ipykernel)",
   "language": "python",
   "name": "python3"
  },
  "language_info": {
   "codemirror_mode": {
    "name": "ipython",
    "version": 3
   },
   "file_extension": ".py",
   "mimetype": "text/x-python",
   "name": "python",
   "nbconvert_exporter": "python",
   "pygments_lexer": "ipython3",
   "version": "3.12.5"
  }
 },
 "nbformat": 4,
 "nbformat_minor": 5
}
